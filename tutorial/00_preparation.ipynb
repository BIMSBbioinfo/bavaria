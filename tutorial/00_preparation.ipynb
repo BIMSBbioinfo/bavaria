{
 "cells": [
  {
   "cell_type": "markdown",
   "id": "b64cca8b",
   "metadata": {},
   "source": [
    "# Data preparation"
   ]
  },
  {
   "cell_type": "markdown",
   "id": "79681549",
   "metadata": {},
   "source": [
    "### Additional requirements"
   ]
  },
  {
   "cell_type": "markdown",
   "id": "60ea99f0",
   "metadata": {},
   "source": [
    "In addition to the BAVARIA requirements, this notebook requires the python package [`pybedtools`](https://daler.github.io/pybedtools/)\n",
    "and the [bedtools](https://bedtools.readthedocs.io/en/latest/) program to be installed."
   ]
  },
  {
   "cell_type": "markdown",
   "id": "62f1f81c",
   "metadata": {},
   "source": [
    "### Overview"
   ]
  },
  {
   "cell_type": "markdown",
   "id": "46e32ad1",
   "metadata": {},
   "source": [
    "In this notebook, we download and prepare two PBMC single-cell ATAC seq datasets from 10X Genomics.\n",
    "The two samples represent different versions of the 10X kit.\n",
    "We will apply BAVARIA on the merged dataset in the 01_pbmc_integration notebook to demonstrate the effect of batch correction."
   ]
  },
  {
   "cell_type": "markdown",
   "id": "dc0faed3",
   "metadata": {},
   "source": [
    "The result of this notebook is a h5ad file containing the dataset that is stored in `data/pbmc_10X.h5ad`.\n",
    "An already prepared version of the dataset (`data/pbmc_10X.h5ad`) is also available at Google drive:\n",
    "   https://drive.google.com/file/d/138_35KrnUB9Xjs4yDyzMQRqrkoqu_uwV/view?usp=sharing "
   ]
  },
  {
   "cell_type": "code",
   "execution_count": 1,
   "id": "8804f460",
   "metadata": {},
   "outputs": [],
   "source": [
    "import os\n",
    "from scipy.io import mmread\n",
    "import pandas as pd\n",
    "import anndata\n",
    "import scanpy as sc\n",
    "import numpy as np\n",
    "from pybedtools import BedTool\n",
    "from scipy.sparse import coo_matrix"
   ]
  },
  {
   "cell_type": "code",
   "execution_count": 2,
   "id": "c6e18450",
   "metadata": {},
   "outputs": [
    {
     "name": "stdout",
     "output_type": "stream",
     "text": [
      "--2021-05-21 21:54:01--  https://cf.10xgenomics.com/samples/cell-atac/1.2.0/atac_v1_pbmc_10k/atac_v1_pbmc_10k_fragments.tsv.gz\n",
      "Resolving cf.10xgenomics.com (cf.10xgenomics.com)... 104.18.1.173, 104.18.0.173, 2606:4700::6812:1ad, ...\n",
      "Connecting to cf.10xgenomics.com (cf.10xgenomics.com)|104.18.1.173|:443... connected.\n",
      "HTTP request sent, awaiting response... 200 OK\n",
      "Length: 1955495674 (1,8G) [text/tab-separated-values]\n",
      "Saving to: ‘data/atac_v1_pbmc_10k_fragments.tsv.gz’\n",
      "\n",
      "100%[====================================>] 1.955.495.674 17,7MB/s   in 2m 5s  \n",
      "\n",
      "2021-05-21 21:56:07 (14,9 MB/s) - ‘data/atac_v1_pbmc_10k_fragments.tsv.gz’ saved [1955495674/1955495674]\n",
      "\n",
      "--2021-05-21 21:56:07--  https://cf.10xgenomics.com/samples/cell-atac/1.2.0/atac_v1_pbmc_10k/atac_v1_pbmc_10k_peaks.bed\n",
      "Resolving cf.10xgenomics.com (cf.10xgenomics.com)... 104.18.1.173, 104.18.0.173, 2606:4700::6812:1ad, ...\n",
      "Connecting to cf.10xgenomics.com (cf.10xgenomics.com)|104.18.1.173|:443... connected.\n",
      "HTTP request sent, awaiting response... 200 OK\n",
      "Length: 1917482 (1,8M) [binary/octet-stream]\n",
      "Saving to: ‘data/atac_v1_pbmc_10k_peaks.bed’\n",
      "\n",
      "100%[======================================>] 1.917.482   1,90MB/s   in 1,0s   \n",
      "\n",
      "2021-05-21 21:56:09 (1,90 MB/s) - ‘data/atac_v1_pbmc_10k_peaks.bed’ saved [1917482/1917482]\n",
      "\n",
      "--2021-05-21 21:56:09--  https://cf.10xgenomics.com/samples/cell-atac/1.2.0/atac_v1_pbmc_10k/atac_v1_pbmc_10k_singlecell.csv\n",
      "Resolving cf.10xgenomics.com (cf.10xgenomics.com)... 104.18.1.173, 104.18.0.173, 2606:4700::6812:1ad, ...\n",
      "Connecting to cf.10xgenomics.com (cf.10xgenomics.com)|104.18.1.173|:443... connected.\n",
      "HTTP request sent, awaiting response... 200 OK\n",
      "Length: 37116270 (35M) [text/csv]\n",
      "Saving to: ‘data/atac_v1_pbmc_10k_singlecell.csv’\n",
      "\n",
      "100%[======================================>] 37.116.270  14,1MB/s   in 2,5s   \n",
      "\n",
      "2021-05-21 21:56:12 (14,1 MB/s) - ‘data/atac_v1_pbmc_10k_singlecell.csv’ saved [37116270/37116270]\n",
      "\n",
      "--2021-05-21 21:56:13--  https://cf.10xgenomics.com/samples/cell-atac/1.2.0/atac_pbmc_10k_nextgem/atac_pbmc_10k_nextgem_fragments.tsv.gz\n",
      "Resolving cf.10xgenomics.com (cf.10xgenomics.com)... 104.18.1.173, 104.18.0.173, 2606:4700::6812:1ad, ...\n",
      "Connecting to cf.10xgenomics.com (cf.10xgenomics.com)|104.18.1.173|:443... connected.\n",
      "HTTP request sent, awaiting response... 200 OK\n",
      "Length: 1971483394 (1,8G) [text/tab-separated-values]\n",
      "Saving to: ‘data/atac_pbmc_10k_nextgem_fragments.tsv.gz’\n",
      "\n",
      "100%[====================================>] 1.971.483.394 18,0MB/s   in 1m 48s \n",
      "\n",
      "2021-05-21 21:58:01 (17,4 MB/s) - ‘data/atac_pbmc_10k_nextgem_fragments.tsv.gz’ saved [1971483394/1971483394]\n",
      "\n",
      "--2021-05-21 21:58:01--  https://cf.10xgenomics.com/samples/cell-atac/1.2.0/atac_pbmc_10k_nextgem/atac_pbmc_10k_nextgem_peaks.bed\n",
      "Resolving cf.10xgenomics.com (cf.10xgenomics.com)... 104.18.1.173, 104.18.0.173, 2606:4700::6812:1ad, ...\n",
      "Connecting to cf.10xgenomics.com (cf.10xgenomics.com)|104.18.1.173|:443... connected.\n",
      "HTTP request sent, awaiting response... 200 OK\n",
      "Length: 2167271 (2,1M) [binary/octet-stream]\n",
      "Saving to: ‘data/atac_pbmc_10k_nextgem_peaks.bed’\n",
      "\n",
      "100%[======================================>] 2.167.271   2,12MB/s   in 1,0s   \n",
      "\n",
      "2021-05-21 21:58:03 (2,12 MB/s) - ‘data/atac_pbmc_10k_nextgem_peaks.bed’ saved [2167271/2167271]\n",
      "\n",
      "--2021-05-21 21:58:03--  https://cf.10xgenomics.com/samples/cell-atac/1.2.0/atac_pbmc_10k_nextgem/atac_pbmc_10k_nextgem_singlecell.csv\n",
      "Resolving cf.10xgenomics.com (cf.10xgenomics.com)... 104.18.1.173, 104.18.0.173, 2606:4700::6812:1ad, ...\n",
      "Connecting to cf.10xgenomics.com (cf.10xgenomics.com)|104.18.1.173|:443... connected.\n",
      "HTTP request sent, awaiting response... 200 OK\n",
      "Length: 36486486 (35M) [text/csv]\n",
      "Saving to: ‘data/atac_pbmc_10k_nextgem_singlecell.csv’\n",
      "\n",
      "100%[======================================>] 36.486.486  14,3MB/s   in 2,4s   \n",
      "\n",
      "2021-05-21 21:58:07 (14,3 MB/s) - ‘data/atac_pbmc_10k_nextgem_singlecell.csv’ saved [36486486/36486486]\n",
      "\n"
     ]
    }
   ],
   "source": [
    "!mkdir -p data\n",
    "\n",
    "# 2 PBMC datasets\n",
    "!wget https://cf.10xgenomics.com/samples/cell-atac/1.2.0/atac_v1_pbmc_10k/atac_v1_pbmc_10k_fragments.tsv.gz -O data/atac_v1_pbmc_10k_fragments.tsv.gz\n",
    "!wget https://cf.10xgenomics.com/samples/cell-atac/1.2.0/atac_v1_pbmc_10k/atac_v1_pbmc_10k_peaks.bed -O data/atac_v1_pbmc_10k_peaks.bed\n",
    "!wget https://cf.10xgenomics.com/samples/cell-atac/1.2.0/atac_v1_pbmc_10k/atac_v1_pbmc_10k_singlecell.csv -O data/atac_v1_pbmc_10k_singlecell.csv\n",
    "\n",
    "!wget https://cf.10xgenomics.com/samples/cell-atac/1.2.0/atac_pbmc_10k_nextgem/atac_pbmc_10k_nextgem_fragments.tsv.gz -O data/atac_pbmc_10k_nextgem_fragments.tsv.gz\n",
    "!wget https://cf.10xgenomics.com/samples/cell-atac/1.2.0/atac_pbmc_10k_nextgem/atac_pbmc_10k_nextgem_peaks.bed -O data/atac_pbmc_10k_nextgem_peaks.bed\n",
    "!wget https://cf.10xgenomics.com/samples/cell-atac/1.2.0/atac_pbmc_10k_nextgem/atac_pbmc_10k_nextgem_singlecell.csv -O data/atac_pbmc_10k_nextgem_singlecell.csv\n"
   ]
  },
  {
   "cell_type": "markdown",
   "id": "07d71bf0",
   "metadata": {},
   "source": [
    "For this tutorial we will proceed with the peaks and filtered cells from the CellRanger pipeline, which we downloaded above.\n",
    "\n",
    "First, we compile a master peak set by combining peaks from both datasets:"
   ]
  },
  {
   "cell_type": "code",
   "execution_count": 3,
   "id": "3babbe45",
   "metadata": {},
   "outputs": [],
   "source": [
    "#make a master peak set\n",
    "!cat data/atac_v1_pbmc_10k_peaks.bed data/atac_pbmc_10k_nextgem_peaks.bed | bedtools sort | bedtools merge > data/masterpeaks.bed\n"
   ]
  },
  {
   "cell_type": "markdown",
   "id": "359528ba",
   "metadata": {},
   "source": [
    "Next, we load the master peaks as BedTool object."
   ]
  },
  {
   "cell_type": "code",
   "execution_count": 4,
   "id": "6e8b3877",
   "metadata": {},
   "outputs": [],
   "source": [
    "peak =pd.read_csv('data/masterpeaks.bed', sep='\\t', header=None)\n",
    "peak.columns=['chrom','start','end']\n",
    "\n",
    "peak.loc[:, \"ridx\"] = range(peak.shape[0])\n",
    "# remove sex chroms and chrom M\n",
    "dfpeak = peak[~peak.chrom.isin(['chrX', 'chrY','chrM'])].copy()\n",
    "dfpeak.loc[:,'idx'] = dfpeak.apply(lambda row: f'{row.chrom}:{row.start}-{row.end}', axis=1)\n",
    "dfpeak.set_index('idx', inplace=True)\n",
    "peak = BedTool.from_dataframe(dfpeak)\n"
   ]
  },
  {
   "cell_type": "code",
   "execution_count": 5,
   "id": "d55df710",
   "metadata": {},
   "outputs": [],
   "source": [
    "batches =  {\n",
    "            'pbmc_10k': {'frag': 'data/atac_v1_pbmc_10k_fragments.tsv.gz',\n",
    "                         'cells': 'data/atac_v1_pbmc_10k_singlecell.csv'},\n",
    "            'pbmc_10k_nextgem': {'frag': 'data/atac_pbmc_10k_nextgem_fragments.tsv.gz',\n",
    "                         'cells': 'data/atac_pbmc_10k_nextgem_singlecell.csv'},\n",
    "           }"
   ]
  },
  {
   "cell_type": "code",
   "execution_count": 6,
   "id": "97f51168",
   "metadata": {},
   "outputs": [],
   "source": [
    "def get_fragment_bedtool(fragments, barcodes):\n",
    "    \"\"\" Load and filter fragments\n",
    "    \n",
    "    Only valid cells (defined by is__cell_barcode) are used.\n",
    "    \"\"\"\n",
    "    df = pd.read_csv(fragments,sep='\\t', header=None)\n",
    "    df.columns = ['chr','start','end','barcode', 'count']\n",
    "    #bcf = pd.read_csv(keepbarcodes)\n",
    "    barcodes = barcodes[barcodes.is__cell_barcode==1]\n",
    "    barcodes.loc[:,'idx'] = range(barcodes.shape[0])\n",
    "    df = pd.merge(df, barcodes, on='barcode', how='inner')[['chr','start','end','barcode', 'idx']]\n",
    "    return BedTool.from_dataframe(df)\n",
    "\n"
   ]
  },
  {
   "cell_type": "code",
   "execution_count": 7,
   "id": "726aab0c",
   "metadata": {},
   "outputs": [],
   "source": [
    "adatas = []\n",
    "for batchname in batches:\n",
    "    barcodes = pd.read_csv(batches[batchname]['cells'])\n",
    "    barcodes = barcodes[barcodes.is__cell_barcode==1]\n",
    "    barcodes.loc[:,\"batch\"] = batchname\n",
    "    barcodes.set_index('barcode', inplace=True)\n",
    "    \n",
    "    frags = get_fragment_bedtool(batches[batchname]['frag'], barcodes)\n",
    "    \n",
    "    peakcounts = peak.intersect(frags,\n",
    "                             wa=True,\n",
    "                             wb=True).to_dataframe()\n",
    "    sparse_data = np.asarray([np.ones(peakcounts.shape[0]),\n",
    "                             peakcounts.name, peakcounts.itemRgb]).T\n",
    "    sparse_data = np.unique(sparse_data, axis=0)\n",
    "    mat = coo_matrix((sparse_data[:,0], (sparse_data[:,1], sparse_data[:,2])),\n",
    "                     shape=(len(peak), len(barcodes)))\n",
    "    adata = anndata.AnnData(mat.T.tocsr(), obs=barcodes, var=dfpeak)\n",
    "    adatas.append(adata)\n"
   ]
  },
  {
   "cell_type": "code",
   "execution_count": 8,
   "id": "caec479e",
   "metadata": {},
   "outputs": [
    {
     "name": "stderr",
     "output_type": "stream",
     "text": [
      "Observation names are not unique. To make them unique, call `.obs_names_make_unique`.\n"
     ]
    }
   ],
   "source": [
    "adata = anndata.concat(adatas, axis=0)\n",
    "adata.obs_names_make_unique()"
   ]
  },
  {
   "cell_type": "code",
   "execution_count": 9,
   "id": "d6a87285",
   "metadata": {},
   "outputs": [],
   "source": [
    "# remove regions waith < %1 coverage across cells\n",
    "regioncover = np.asarray(adata.X.sum(0)).flatten()\n",
    "adata = adata[:, regioncover>=0.01*adata.shape[0]].copy()"
   ]
  },
  {
   "cell_type": "markdown",
   "id": "4512a0b3",
   "metadata": {},
   "source": [
    "The preprocessed and merged dataset is saved in `data/pbmc_10X.h5ad`"
   ]
  },
  {
   "cell_type": "code",
   "execution_count": 10,
   "id": "bd4c456a",
   "metadata": {},
   "outputs": [
    {
     "name": "stderr",
     "output_type": "stream",
     "text": [
      "... storing 'cell_id' as categorical\n",
      "... storing 'batch' as categorical\n"
     ]
    }
   ],
   "source": [
    "adata.write('data/pbmc_10X.h5ad')"
   ]
  },
  {
   "cell_type": "code",
   "execution_count": 11,
   "id": "4e4887bc",
   "metadata": {},
   "outputs": [
    {
     "data": {
      "text/plain": [
       "AnnData object with n_obs × n_vars = 18301 × 73228\n",
       "    obs: 'total', 'duplicate', 'chimeric', 'unmapped', 'lowmapq', 'mitochondrial', 'passed_filters', 'cell_id', 'is__cell_barcode', 'TSS_fragments', 'DNase_sensitive_region_fragments', 'enhancer_region_fragments', 'promoter_region_fragments', 'on_target_fragments', 'blacklist_region_fragments', 'peak_region_fragments', 'peak_region_cutsites', 'batch'"
      ]
     },
     "execution_count": 11,
     "metadata": {},
     "output_type": "execute_result"
    }
   ],
   "source": [
    "adata"
   ]
  },
  {
   "cell_type": "code",
   "execution_count": 12,
   "id": "54139f4d",
   "metadata": {},
   "outputs": [
    {
     "data": {
      "text/plain": [
       "pbmc_10k_nextgem    9668\n",
       "pbmc_10k            8633\n",
       "Name: batch, dtype: int64"
      ]
     },
     "execution_count": 12,
     "metadata": {},
     "output_type": "execute_result"
    }
   ],
   "source": [
    "adata.obs.batch.value_counts()"
   ]
  },
  {
   "cell_type": "markdown",
   "id": "1c42dd9a",
   "metadata": {},
   "source": [
    "After the preprocessing, we obtain a 18301 cells by 73228 peaks count matrix. The two batches (pbmc_10k_next_gem and pbmc_10x) consist of 9668 and 8633 cells, respectively. We use this count matrix to fit the variational auto-encoder in the next tutorial notebook."
   ]
  }
 ],
 "metadata": {
  "kernelspec": {
   "display_name": "Python 3",
   "language": "python",
   "name": "python3"
  },
  "language_info": {
   "codemirror_mode": {
    "name": "ipython",
    "version": 3
   },
   "file_extension": ".py",
   "mimetype": "text/x-python",
   "name": "python",
   "nbconvert_exporter": "python",
   "pygments_lexer": "ipython3",
   "version": "3.7.10"
  }
 },
 "nbformat": 4,
 "nbformat_minor": 5
}
