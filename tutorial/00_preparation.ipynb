{
 "cells": [
  {
   "cell_type": "code",
   "execution_count": 49,
   "id": "8804f460",
   "metadata": {},
   "outputs": [],
   "source": [
    "import os\n",
    "from scipy.io import mmread\n",
    "import pandas as pd\n",
    "import anndata\n",
    "import scanpy as sc\n",
    "import numpy as np\n",
    "from pybedtools import BedTool\n",
    "from scipy.sparse import coo_matrix"
   ]
  },
  {
   "cell_type": "markdown",
   "id": "46e32ad1",
   "metadata": {},
   "source": [
    "In this notebook, we download and prepare two PBMC single-cell ATAC seq datasets from 10X Genomics.\n",
    "The two samples represent different versions of the 10X kit.\n",
    "We use the merged dataset to run BAVARIA in the 01_pbmc_integration notebook."
   ]
  },
  {
   "cell_type": "code",
   "execution_count": 22,
   "id": "c6e18450",
   "metadata": {},
   "outputs": [
    {
     "name": "stdout",
     "output_type": "stream",
     "text": [
      "--2021-05-05 13:08:42--  https://cf.10xgenomics.com/samples/cell-atac/1.2.0/atac_v1_pbmc_10k/atac_v1_pbmc_10k_fragments.tsv.gz\n",
      "Resolving cf.10xgenomics.com (cf.10xgenomics.com)... 104.18.0.173, 104.18.1.173, 2606:4700::6812:1ad, ...\n",
      "Connecting to cf.10xgenomics.com (cf.10xgenomics.com)|104.18.0.173|:443... connected.\n",
      "HTTP request sent, awaiting response... 200 OK\n",
      "Length: 1955495674 (1,8G) [text/tab-separated-values]\n",
      "Saving to: ‘data/atac_v1_pbmc_10k_fragments.tsv.gz’\n",
      "\n",
      "100%[====================================>] 1.955.495.674 20,7MB/s   in 90s    \n",
      "\n",
      "2021-05-05 13:10:13 (20,7 MB/s) - ‘data/atac_v1_pbmc_10k_fragments.tsv.gz’ saved [1955495674/1955495674]\n",
      "\n",
      "--2021-05-05 13:10:13--  https://cf.10xgenomics.com/samples/cell-atac/1.2.0/atac_v1_pbmc_10k/atac_v1_pbmc_10k_peaks.bed\n",
      "Resolving cf.10xgenomics.com (cf.10xgenomics.com)... 104.18.0.173, 104.18.1.173, 2606:4700::6812:1ad, ...\n",
      "Connecting to cf.10xgenomics.com (cf.10xgenomics.com)|104.18.0.173|:443... connected.\n",
      "HTTP request sent, awaiting response... 200 OK\n",
      "Length: 1917482 (1,8M) [binary/octet-stream]\n",
      "Saving to: ‘data/atac_v1_pbmc_10k_peaks.bed’\n",
      "\n",
      "100%[======================================>] 1.917.482   1,92MB/s   in 1,0s   \n",
      "\n",
      "2021-05-05 13:10:15 (1,92 MB/s) - ‘data/atac_v1_pbmc_10k_peaks.bed’ saved [1917482/1917482]\n",
      "\n",
      "--2021-05-05 13:10:15--  https://cf.10xgenomics.com/samples/cell-atac/1.2.0/atac_v1_pbmc_10k/atac_v1_pbmc_10k_singlecell.csv\n",
      "Resolving cf.10xgenomics.com (cf.10xgenomics.com)... 104.18.0.173, 104.18.1.173, 2606:4700::6812:1ad, ...\n",
      "Connecting to cf.10xgenomics.com (cf.10xgenomics.com)|104.18.0.173|:443... connected.\n",
      "HTTP request sent, awaiting response... 200 OK\n",
      "Length: 37116270 (35M) [text/csv]\n",
      "Saving to: ‘data/atac_v1_pbmc_10k_singlecell.csv’\n",
      "\n",
      "100%[======================================>] 37.116.270  13,7MB/s   in 2,6s   \n",
      "\n",
      "2021-05-05 13:10:19 (13,7 MB/s) - ‘data/atac_v1_pbmc_10k_singlecell.csv’ saved [37116270/37116270]\n",
      "\n",
      "--2021-05-05 13:10:19--  https://cf.10xgenomics.com/samples/cell-atac/1.2.0/atac_pbmc_10k_nextgem/atac_pbmc_10k_nextgem_fragments.tsv.gz\n",
      "Resolving cf.10xgenomics.com (cf.10xgenomics.com)... 104.18.0.173, 104.18.1.173, 2606:4700::6812:1ad, ...\n",
      "Connecting to cf.10xgenomics.com (cf.10xgenomics.com)|104.18.0.173|:443... connected.\n",
      "HTTP request sent, awaiting response... 200 OK\n",
      "Length: 1971483394 (1,8G) [text/tab-separated-values]\n",
      "Saving to: ‘data/atac_pbmc_10k_nextgem_fragments.tsv.gz’\n",
      "\n",
      "100%[====================================>] 1.971.483.394 17,8MB/s   in 1m 46s \n",
      "\n",
      "2021-05-05 13:12:06 (17,7 MB/s) - ‘data/atac_pbmc_10k_nextgem_fragments.tsv.gz’ saved [1971483394/1971483394]\n",
      "\n",
      "--2021-05-05 13:12:06--  https://cf.10xgenomics.com/samples/cell-atac/1.2.0/atac_pbmc_10k_nextgem/atac_pbmc_10k_nextgem_peaks.bed\n",
      "Resolving cf.10xgenomics.com (cf.10xgenomics.com)... 104.18.0.173, 104.18.1.173, 2606:4700::6812:1ad, ...\n",
      "Connecting to cf.10xgenomics.com (cf.10xgenomics.com)|104.18.0.173|:443... connected.\n",
      "HTTP request sent, awaiting response... 200 OK\n",
      "Length: 2167271 (2,1M) [binary/octet-stream]\n",
      "Saving to: ‘data/atac_pbmc_10k_nextgem_peaks.bed’\n",
      "\n",
      "100%[======================================>] 2.167.271   2,13MB/s   in 1,0s   \n",
      "\n",
      "2021-05-05 13:12:08 (2,13 MB/s) - ‘data/atac_pbmc_10k_nextgem_peaks.bed’ saved [2167271/2167271]\n",
      "\n",
      "--2021-05-05 13:12:08--  https://cf.10xgenomics.com/samples/cell-atac/1.2.0/atac_pbmc_10k_nextgem/atac_pbmc_10k_nextgem_singlecell.csv\n",
      "Resolving cf.10xgenomics.com (cf.10xgenomics.com)... 104.18.0.173, 104.18.1.173, 2606:4700::6812:1ad, ...\n",
      "Connecting to cf.10xgenomics.com (cf.10xgenomics.com)|104.18.0.173|:443... connected.\n",
      "HTTP request sent, awaiting response... 200 OK\n",
      "Length: 36486486 (35M) [text/csv]\n",
      "Saving to: ‘data/atac_pbmc_10k_nextgem_singlecell.csv’\n",
      "\n",
      "100%[======================================>] 36.486.486  13,8MB/s   in 2,5s   \n",
      "\n",
      "2021-05-05 13:12:12 (13,8 MB/s) - ‘data/atac_pbmc_10k_nextgem_singlecell.csv’ saved [36486486/36486486]\n",
      "\n"
     ]
    }
   ],
   "source": [
    "!mkdir -p data\n",
    "\n",
    "# 2 PBMC datasets\n",
    "!wget https://cf.10xgenomics.com/samples/cell-atac/1.2.0/atac_v1_pbmc_10k/atac_v1_pbmc_10k_fragments.tsv.gz -O data/atac_v1_pbmc_10k_fragments.tsv.gz\n",
    "!wget https://cf.10xgenomics.com/samples/cell-atac/1.2.0/atac_v1_pbmc_10k/atac_v1_pbmc_10k_peaks.bed -O data/atac_v1_pbmc_10k_peaks.bed\n",
    "!wget https://cf.10xgenomics.com/samples/cell-atac/1.2.0/atac_v1_pbmc_10k/atac_v1_pbmc_10k_singlecell.csv -O data/atac_v1_pbmc_10k_singlecell.csv\n",
    "\n",
    "!wget https://cf.10xgenomics.com/samples/cell-atac/1.2.0/atac_pbmc_10k_nextgem/atac_pbmc_10k_nextgem_fragments.tsv.gz -O data/atac_pbmc_10k_nextgem_fragments.tsv.gz\n",
    "!wget https://cf.10xgenomics.com/samples/cell-atac/1.2.0/atac_pbmc_10k_nextgem/atac_pbmc_10k_nextgem_peaks.bed -O data/atac_pbmc_10k_nextgem_peaks.bed\n",
    "!wget https://cf.10xgenomics.com/samples/cell-atac/1.2.0/atac_pbmc_10k_nextgem/atac_pbmc_10k_nextgem_singlecell.csv -O data/atac_pbmc_10k_nextgem_singlecell.csv\n"
   ]
  },
  {
   "cell_type": "markdown",
   "id": "07d71bf0",
   "metadata": {},
   "source": [
    "For this tutorial we will proceed with the peaks and filtered cells from the CellRanger pipeline, which we downloaded above.\n",
    "\n",
    "First, we compile a master peak set by combining peaks from both datasets:"
   ]
  },
  {
   "cell_type": "code",
   "execution_count": 24,
   "id": "3babbe45",
   "metadata": {},
   "outputs": [],
   "source": [
    "#make a master peak set\n",
    "!cat data/atac_v1_pbmc_10k_peaks.bed data/atac_pbmc_10k_nextgem_peaks.bed | bedtools sort | bedtools merge > data/masterpeaks.bed\n"
   ]
  },
  {
   "cell_type": "markdown",
   "id": "359528ba",
   "metadata": {},
   "source": [
    "Next, we load the master peaks as BedTool object."
   ]
  },
  {
   "cell_type": "code",
   "execution_count": 74,
   "id": "6e8b3877",
   "metadata": {},
   "outputs": [],
   "source": [
    "peak =pd.read_csv('data/masterpeaks.bed', sep='\\t', header=None)\n",
    "peak.columns=['chrom','start','end']\n",
    "\n",
    "peak.loc[:, \"ridx\"] = range(peak.shape[0])\n",
    "# remove sex chroms and chrom M\n",
    "dfpeak = peak[~peak.chrom.isin(['chrX', 'chrY','chrM'])].copy()\n",
    "#dfpeak = peak.to_dataframe()\n",
    "dfpeak.loc[:,'idx'] = dfpeak.apply(lambda row: f'{row.chrom}:{row.start}-{row.end}', axis=1)\n",
    "dfpeak.set_index('idx', inplace=True)\n",
    "peak = BedTool.from_dataframe(dfpeak)\n"
   ]
  },
  {
   "cell_type": "code",
   "execution_count": 76,
   "id": "d55df710",
   "metadata": {},
   "outputs": [],
   "source": [
    "batches =  {\n",
    "            'pbmc_10k': {'frag': 'data/atac_v1_pbmc_10k_fragments.tsv.gz',\n",
    "                         'cells': 'data/atac_v1_pbmc_10k_singlecell.csv'},\n",
    "            'pbmc_10k_nextgem': {'frag': 'data/atac_pbmc_10k_nextgem_fragments.tsv.gz',\n",
    "                         'cells': 'data/atac_pbmc_10k_nextgem_singlecell.csv'},\n",
    "           }"
   ]
  },
  {
   "cell_type": "code",
   "execution_count": 77,
   "id": "97f51168",
   "metadata": {},
   "outputs": [],
   "source": [
    "def get_fragment_bedtool(fragments, barcodes):\n",
    "    \"\"\" Load and filter fragments\n",
    "    \n",
    "    Only valid cells (defined by is__cell_barcode) are used.\n",
    "    \"\"\"\n",
    "    df = pd.read_csv(fragments,sep='\\t', header=None)\n",
    "    df.columns = ['chr','start','end','barcode', 'count']\n",
    "    #bcf = pd.read_csv(keepbarcodes)\n",
    "    barcodes = barcodes[barcodes.is__cell_barcode==1]\n",
    "    barcodes.loc[:,'idx'] = range(barcodes.shape[0])\n",
    "    df = pd.merge(df, barcodes, on='barcode', how='inner')[['chr','start','end','barcode', 'idx']]\n",
    "    return BedTool.from_dataframe(df)\n",
    "\n"
   ]
  },
  {
   "cell_type": "code",
   "execution_count": null,
   "id": "726aab0c",
   "metadata": {},
   "outputs": [],
   "source": [
    "adatas = []\n",
    "for batchname in batches:\n",
    "    barcodes = pd.read_csv(batches[batchname]['cells'])\n",
    "    barcodes = barcodes[barcodes.is__cell_barcode==1]\n",
    "    barcodes.loc[:,\"batch\"] = batchname\n",
    "    barcodes.set_index('barcode', inplace=True)\n",
    "    \n",
    "    frags = get_fragment_bedtool(batches[batchname]['frag'], barcodes)\n",
    "    \n",
    "    peakcounts = peak.intersect(frags,\n",
    "                             wa=True,\n",
    "                             wb=True).to_dataframe()\n",
    "    sparse_data = np.asarray([np.ones(peakcounts.shape[0]),\n",
    "                             peakcounts.name, peakcounts.itemRgb]).T\n",
    "    sparse_data = np.unique(sparse_data, axis=0)\n",
    "    mat = coo_matrix((sparse_data[:,0], (sparse_data[:,1], sparse_data[:,2])),\n",
    "                     shape=(len(peak), len(barcodes)))\n",
    "    adata = anndata.AnnData(mat.T.tocsr(), obs=barcodes, var=peakdf)\n",
    "    adatas.append(adata)\n"
   ]
  },
  {
   "cell_type": "code",
   "execution_count": 88,
   "id": "caec479e",
   "metadata": {},
   "outputs": [
    {
     "name": "stderr",
     "output_type": "stream",
     "text": [
      "Observation names are not unique. To make them unique, call `.obs_names_make_unique`.\n"
     ]
    }
   ],
   "source": [
    "adata = anndata.concat(adatas, axis=0)\n",
    "adata.obs_names_make_unique()"
   ]
  },
  {
   "cell_type": "code",
   "execution_count": 92,
   "id": "d6a87285",
   "metadata": {},
   "outputs": [],
   "source": [
    "# remove regions waith < %1 coverage across cells\n",
    "regioncover = np.asarray(adata.X.sum(0)).flatten()\n",
    "adata = adata[:, regioncover>=0.01*adata.shape[0]].copy()"
   ]
  },
  {
   "cell_type": "markdown",
   "id": "4512a0b3",
   "metadata": {},
   "source": [
    "The preprocessed and merged dataset is saved in `data/pbmc_10X.h5ad`"
   ]
  },
  {
   "cell_type": "code",
   "execution_count": 94,
   "id": "bd4c456a",
   "metadata": {},
   "outputs": [
    {
     "name": "stderr",
     "output_type": "stream",
     "text": [
      "... storing 'cell_id' as categorical\n",
      "... storing 'batch' as categorical\n"
     ]
    }
   ],
   "source": [
    "adata.write('data/pbmc_10X.h5ad')"
   ]
  }
 ],
 "metadata": {
  "kernelspec": {
   "display_name": "Python 3",
   "language": "python",
   "name": "python3"
  },
  "language_info": {
   "codemirror_mode": {
    "name": "ipython",
    "version": 3
   },
   "file_extension": ".py",
   "mimetype": "text/x-python",
   "name": "python",
   "nbconvert_exporter": "python",
   "pygments_lexer": "ipython3",
   "version": "3.7.10"
  }
 },
 "nbformat": 4,
 "nbformat_minor": 5
}
